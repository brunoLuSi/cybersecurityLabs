{
 "cells": [
  {
   "cell_type": "markdown",
   "id": "744ca1a8",
   "metadata": {},
   "source": [
    "## 2. Differences between Shodan and Censys"
   ]
  },
  {
   "cell_type": "markdown",
   "id": "ed53baf1",
   "metadata": {},
   "source": [
    "As you have seen in the previous activity, both Shodan and Censys are search engines that provide quite similar characteristics when finding devices that are connected to the Internet. It is true that when making the same type of query, such as searching for devices with port 53 open, the first examples that appear in the two systems are not the same, but even with one of them, like Censys, if you make the same query twice, the same examples do not appear at the beginning.\n",
    "\n",
    "As with anything that exists in this world and is similar to another, there are always differences, and between the two search engines they are present. Therefore, based on the following elements or concepts that I will explain below, I want you to look for and study the differences between them:\n",
    "*Data Collection*, *Data Types*, *User Interface and API*, *Use Cases*, *Worldwide Traffic*, *Filtering System*\n",
    "\n",
    "*If you find other differences, you are free to include them*"
   ]
  }
 ],
 "metadata": {
  "language_info": {
   "name": "python"
  }
 },
 "nbformat": 4,
 "nbformat_minor": 5
}

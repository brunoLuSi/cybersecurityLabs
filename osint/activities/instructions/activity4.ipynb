{
 "cells": [
  {
   "cell_type": "markdown",
   "id": "3eca2076",
   "metadata": {},
   "source": [
    "## 4. Facets Scripts"
   ]
  },
  {
   "cell_type": "markdown",
   "id": "a453c9c4",
   "metadata": {},
   "source": [
    "The Shodan API offers a tool called facets, which **allows you to group and count results**\n",
    "**based on specific attributes**. Instead of listing all the IPs found in a search, facets provide\n",
    "a **statistical summary**, making data analysis much more efficient.\n",
    "\n",
    "This approach is very useful for several reasons:\n",
    "\n",
    "- **Optimize performance** → There’s no need to retrieve all the IPs from a search. In-\n",
    "stead, you can obtain general statistics, making the query much faster and more effi-\n",
    "cient.\n",
    "- **Help identify trends** → Rather than manually analyzing large amounts of data, you\n",
    "can see which patterns are most common (e.g., which ports are most frequently\n",
    "found on vulnerable devices).\n",
    "\n",
    "- **Facilitate report generation** → Since there’s no need to process large volumes of\n",
    "individual data, you can quickly obtain clear and structured summaries."
   ]
  },
  {
   "cell_type": "markdown",
   "id": "054f3bd2",
   "metadata": {},
   "source": [
    "### Activity"
   ]
  },
  {
   "cell_type": "markdown",
   "id": "b51f0908",
   "metadata": {},
   "source": [
    "The Spanish government has requested the development of a script capable of performing\n",
    "a statistical security analysis of different cities in Spain using the facets feature of the\n",
    "Shodan API.\n",
    "\n",
    "**Objective**: When entering any Spanish city, your program should generate a classification\n",
    "based on the following criteria:\n",
    "\n",
    "- **The 5 most common open ports** found on devices in that city.\n",
    "- **The 10 most used organizations** by businesses or individuals.\n",
    "- **The 6 most common operating systems** detected on scanned devices.\n",
    "- **The 8 most used device types**, such as cameras, computers, routers, etc\n",
    "\n",
    "After obtaining all the previous information, you should display the different values using\n",
    "various charts to make it easier for the user to understand each value and the corresponding\n",
    "devices. I recommend using a pie chart for the device types and the operating systems, and\n",
    "bar charts for the other two categories.\n",
    "\n",
    "This script should be able to receive the name of a Spanish city and return a statistical\n",
    "summary based on the data provided by Shodan.\n",
    "\n",
    "*Note*: Using facets greatly speeds up this process, avoiding the need to manually process\n",
    "large amounts of results. Furthermore, I attach you a link where you can find more informa-\n",
    "tion about how facets work:\n",
    "\n",
    "https://shodan.readthedocs.io/en/latest/examples/query-summary.html\n"
   ]
  }
 ],
 "metadata": {
  "language_info": {
   "name": "python"
  }
 },
 "nbformat": 4,
 "nbformat_minor": 5
}

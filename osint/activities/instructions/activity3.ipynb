{
 "cells": [
  {
   "cell_type": "markdown",
   "id": "cc1deacc",
   "metadata": {},
   "source": [
    "## 3. Basic API Script"
   ]
  },
  {
   "cell_type": "markdown",
   "id": "f9a6360a",
   "metadata": {},
   "source": [
    "The goal of this activity is to learn how to use the Shodan API to perform queries and develop a report based on the information returned."
   ]
  },
  {
   "cell_type": "markdown",
   "id": "7c17fbd5",
   "metadata": {},
   "source": [
    "#### 3.1. Installation and Configuration"
   ]
  },
  {
   "cell_type": "markdown",
   "id": "2d9f3021",
   "metadata": {},
   "source": [
    "Before you begin, you need to install the **Shodan** or **Censys** library on your machine, if you haven’t already:"
   ]
  },
  {
   "cell_type": "code",
   "execution_count": null,
   "id": "c4f70ff3",
   "metadata": {},
   "outputs": [],
   "source": [
    "%pip install shodan\n",
    "%pip install censys"
   ]
  },
  {
   "cell_type": "markdown",
   "id": "ecf1c78c",
   "metadata": {},
   "source": [
    "Once installed, **import it into your archive** and enter your **API Key** to be able to use its features. In order to a query in Shodan, you should need these two functions:"
   ]
  },
  {
   "cell_type": "code",
   "execution_count": null,
   "id": "a8841673",
   "metadata": {},
   "outputs": [],
   "source": [
    "import shodan \n",
    "\n",
    "api = shodan.Shodan('YOURAPIKEY') \n",
    "results = api.search('shodans_query', limit=X)"
   ]
  },
  {
   "cell_type": "markdown",
   "id": "dfb2d8a4",
   "metadata": {},
   "source": [
    "#### 3.1. Task description"
   ]
  },
  {
   "cell_type": "markdown",
   "id": "df3a3547",
   "metadata": {},
   "source": [
    "Using the Shodan API, you need to perform a query that meets the following conditions: \n",
    "\n",
    " - The HTTP title must say Login. \n",
    " - The devices must have port 80 open. \n",
    " - Limit the results to 1000."
   ]
  },
  {
   "cell_type": "markdown",
   "id": "5e48d2a6",
   "metadata": {},
   "source": [
    "The reason of scanning these types of devices it is because they often include web-based administration panels or interfaces that are publicly accessible. Identifying such devices with open HTTP ports and login pages is crucial because they can be easy targets for attackers if not properly secured. By analyzing them, we can assess the global exposure of potentially vulnerable systems, raise awareness about insecure configurations, and help prioritize mitigation efforts based on vulnerability presence and distribution. \n",
    "\n",
    "After making the query, I suggest that you save the results in a JSON file to preserve tokens. This will allow your partners to work and ensure they have enough tokens to make the query. \n",
    "\n",
    "Next, you need to start developing a report with the information extracted from the query and saved in the JSON file. Remember that you need to read the data from the previously saved file"
   ]
  },
  {
   "cell_type": "markdown",
   "id": "3d69fb6e",
   "metadata": {},
   "source": [
    "The report must include the following topics: \n",
    "\n",
    "- A map where you mark the coordinates of all scanned devices with dots. The dots should have different colors depending on the number of devices at each location (1 device = light green, 2 devices = yellow, 3–5 devices = orange, 6–10 devices = red, more than 10 devices = black). You must use a legend to represent these differences. \n",
    "\n",
    "- A pie chart analyzing the distribution of devices by country. Since many countries may appear, you should display the top 8 countries with the most connected devices. The remaining countries should be grouped under a category named ”Others.” \n",
    "\n",
    "- Another pie chart showing the distribution of devices with and without vulnerabilities. \n",
    "\n",
    "- A barchart showing the number of vulnerabilities by CVSS rating. This should not be related to the countries.\n",
    "\n",
    "- A bar chart showing the top 10 countries with the most vulnerable devices. \n",
    "\n",
    "- 3 stacked bar charts showing the top 10 ISPs, autonomous systems, and organizations. Each chart should display the difference between IPs with and without vulnerabilities.  \n",
    "\n",
    "- Another bar chart showing the top 10 IPs with the most vulnerabilities. Essentially, you need to count the number of vulnerabilities per vulnerable IP. In this chart, you need to make a comment related with any of IPs with many vulnerabilities. \n",
    "\n",
    "- A dot chart showing the relationship between CVSS and EPSS.\n",
    "\n",
    "Finally, as a last step, you must create a list that includes all the vulnerabilities found across the scanned devices. For each vulnerability, the list should display the following information: the IP address, the CVE identifier, the CVSS score, the EPSS score, whether the vulnerability is verified, a brief part of the summary, and the number of references associated with it.    \n",
    "\n",
    "Below is an example of the expected format:\n",
    "\n",
    "![List of vulns](listVulns.png)"
   ]
  },
  {
   "cell_type": "markdown",
   "id": "588af2cf",
   "metadata": {},
   "source": [
    "All these charts and maps need to be included in a report where you analyze the scanned information and describe it in detail. \n",
    "\n",
    "To complete this task, it is recommended that you check the official Shodan API documentation: https://developer.shodan.io/api."
   ]
  }
 ],
 "metadata": {
  "kernelspec": {
   "display_name": "Python 3",
   "language": "python",
   "name": "python3"
  },
  "language_info": {
   "name": "python",
   "version": "3.13.1"
  }
 },
 "nbformat": 4,
 "nbformat_minor": 5
}
